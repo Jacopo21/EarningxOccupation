{
 "cells": [
  {
   "cell_type": "code",
   "execution_count": 21,
   "metadata": {},
   "outputs": [],
   "source": [
    "import pandas as pd\n",
    "import os\n",
    "import numpy as np\n",
    "from sklearn.linear_model import LinearRegression\n",
    "from sklearn.model_selection import train_test_split, cross_val_score\n",
    "from sklearn.metrics import mean_squared_error\n",
    "import matplotlib.pyplot as plt"
   ]
  },
  {
   "cell_type": "code",
   "execution_count": 14,
   "metadata": {},
   "outputs": [
    {
     "name": "stdout",
     "output_type": "stream",
     "text": [
      "<class 'pandas.core.frame.DataFrame'>\n",
      "RangeIndex: 149316 entries, 0 to 149315\n",
      "Data columns (total 23 columns):\n",
      " #   Column      Non-Null Count   Dtype  \n",
      "---  ------      --------------   -----  \n",
      " 0   Unnamed: 0  149316 non-null  int64  \n",
      " 1   hhid        149316 non-null  int64  \n",
      " 2   intmonth    149316 non-null  object \n",
      " 3   stfips      149316 non-null  object \n",
      " 4   weight      149316 non-null  float64\n",
      " 5   earnwke     149316 non-null  float64\n",
      " 6   uhours      149316 non-null  int64  \n",
      " 7   grade92     149316 non-null  int64  \n",
      " 8   race        149316 non-null  int64  \n",
      " 9   ethnic      20071 non-null   float64\n",
      " 10  age         149316 non-null  int64  \n",
      " 11  sex         149316 non-null  int64  \n",
      " 12  marital     149316 non-null  int64  \n",
      " 13  ownchild    149316 non-null  int64  \n",
      " 14  chldpres    149316 non-null  int64  \n",
      " 15  prcitshp    149316 non-null  object \n",
      " 16  state       149316 non-null  object \n",
      " 17  ind02       149316 non-null  object \n",
      " 18  occ2012     149316 non-null  int64  \n",
      " 19  class       149316 non-null  object \n",
      " 20  unionmme    149316 non-null  object \n",
      " 21  unioncov    132220 non-null  object \n",
      " 22  lfsr94      149316 non-null  object \n",
      "dtypes: float64(3), int64(11), object(9)\n",
      "memory usage: 26.2+ MB\n",
      "None\n"
     ]
    },
    {
     "name": "stderr",
     "output_type": "stream",
     "text": [
      "/var/folders/6t/d3d0rh5d1rd426bk9g_mnhd00000gn/T/ipykernel_31123/2765086427.py:1: DtypeWarning: Columns (16) have mixed types. Specify dtype option on import or set low_memory=False.\n",
      "  data = pd.read_csv(\"/Users/jacopobinati/Desktop/Prediction ML/assignment1/DA3-phdma/HM1/morg-2014-emp.csv\")\n"
     ]
    }
   ],
   "source": [
    "data = pd.read_csv(\"/Users/jacopobinati/Desktop/Prediction ML/assignment1/DA3-phdma/HM1/morg-2014-emp.csv\")\n",
    "data\n",
    "print(data.info())\n",
    "\n",
    "#Data imported correctly since we have 149316 observations"
   ]
  },
  {
   "cell_type": "markdown",
   "metadata": {},
   "source": [
    "We will keep only workers in the cathegory: Medial and health services manager. \n",
    "The Census Code is: 0350\n",
    "The SOC CODE is 11-9111"
   ]
  },
  {
   "cell_type": "code",
   "execution_count": 16,
   "metadata": {},
   "outputs": [
    {
     "name": "stdout",
     "output_type": "stream",
     "text": [
      "<class 'pandas.core.frame.DataFrame'>\n",
      "Index: 2315 entries, 94 to 149266\n",
      "Data columns (total 23 columns):\n",
      " #   Column      Non-Null Count  Dtype  \n",
      "---  ------      --------------  -----  \n",
      " 0   Unnamed: 0  2315 non-null   int64  \n",
      " 1   hhid        2315 non-null   int64  \n",
      " 2   intmonth    2315 non-null   object \n",
      " 3   stfips      2315 non-null   object \n",
      " 4   weight      2315 non-null   float64\n",
      " 5   earnwke     2315 non-null   float64\n",
      " 6   uhours      2315 non-null   int64  \n",
      " 7   grade92     2315 non-null   int64  \n",
      " 8   race        2315 non-null   int64  \n",
      " 9   ethnic      208 non-null    float64\n",
      " 10  age         2315 non-null   int64  \n",
      " 11  sex         2315 non-null   int64  \n",
      " 12  marital     2315 non-null   int64  \n",
      " 13  ownchild    2315 non-null   int64  \n",
      " 14  chldpres    2315 non-null   int64  \n",
      " 15  prcitshp    2315 non-null   object \n",
      " 16  state       2315 non-null   object \n",
      " 17  ind02       2315 non-null   object \n",
      " 18  occ2012     2315 non-null   int64  \n",
      " 19  class       2315 non-null   object \n",
      " 20  unionmme    2315 non-null   object \n",
      " 21  unioncov    2181 non-null   object \n",
      " 22  lfsr94      2315 non-null   object \n",
      "dtypes: float64(3), int64(11), object(9)\n",
      "memory usage: 434.1+ KB\n",
      "None\n"
     ]
    }
   ],
   "source": [
    "filtered_data = data[(data['occ2012'] >= 2600) & (data['occ2012'] <= 2920)]\n",
    "summary = filtered_data.describe()\n",
    "summary_code = filtered_data['occ2012'].describe()\n",
    "\n",
    "print(filtered_data.info())"
   ]
  },
  {
   "cell_type": "code",
   "execution_count": 25,
   "metadata": {},
   "outputs": [
    {
     "data": {
      "image/png": "[encoded data removed]",
      "text/plain": [
       "<Figure size 600x400 with 1 Axes>"
      ]
     },
     "metadata": {},
     "output_type": "display_data"
    }
   ],
   "source": [
    "earnwke_data = filtered_data['earnwke']\n",
    "\n",
    "# Plotting the distribution using a histogram\n",
    "plt.figure(figsize=(6, 4))\n",
    "plt.hist(earnwke_data, bins=30, color='skyblue', edgecolor='black')\n",
    "plt.title('Distribution of earnwke')\n",
    "plt.xlabel('Earnings')\n",
    "plt.ylabel('Frequency')\n",
    "plt.grid(True)\n",
    "plt.show()"
   ]
  },
  {
   "cell_type": "code",
   "execution_count": 26,
   "metadata": {},
   "outputs": [],
   "source": [
    "# Assume 'earnings_per_hour' is the target variable\n",
    "target = 'earnings_per_hour'\n",
    "features = filtered_data.columns[filtered_data.columns != target]  # Select all other columns as features\n",
    "\n",
    "X = filtered_data[\"earnwke\"]\n",
    "y = filtered_data[\"earnwke\"]\n"
   ]
  },
  {
   "cell_type": "code",
   "execution_count": null,
   "metadata": {},
   "outputs": [],
   "source": [
    "# Model 1 - Simplest Model\n",
    "X_model1 = X[['feature1', 'feature2']]  # Define the simplest features\n",
    "\n",
    "# Model fitting\n",
    "model1 = LinearRegression()\n",
    "model1.fit(X_model1, y)\n",
    "\n",
    "# Model 2, 3, 4 - Increasing Complexity\n",
    "# Include more features in each subsequent model\n",
    "\n",
    "# Evaluation Metrics Calculation\n",
    "models = [model1]  # Store models for evaluation\n",
    "\n",
    "for model in models:\n",
    "    y_pred = model.predict(X)  # Predict on full sample\n",
    "    \n",
    "    # Calculate RMSE for the full sample\n",
    "    rmse_full = np.sqrt(mean_squared_error(y, y_pred))\n",
    "    \n",
    "    # Cross-validation for RMSE\n",
    "    cv_rmse = np.sqrt(-cross_val_score(model, X, y, scoring='neg_mean_squared_error', cv=5).mean())\n",
    "    \n",
    "    # BIC Calculation\n",
    "    n = len(y)\n",
    "    k = len(model.coef_) + 1  # Number of predictors + intercept\n",
    "    bic = n * np.log(mean_squared_error(y, y_pred)) + k * np.log(n)\n",
    "    \n",
    "    print(f\"RMSE (Full Sample): {rmse_full}\")\n",
    "    print(f\"Cross-validated RMSE: {cv_rmse}\")\n",
    "    print(f\"BIC: {bic}\")\n"
   ]
  }
 ],
 "metadata": {
  "kernelspec": {
   "display_name": "Python 3",
   "language": "python",
   "name": "python3"
  },
  "language_info": {
   "codemirror_mode": {
    "name": "ipython",
    "version": 3
   },
   "file_extension": ".py",
   "mimetype": "text/x-python",
   "name": "python",
   "nbconvert_exporter": "python",
   "pygments_lexer": "ipython3",
   "version": "3.9.17"
  }
 },
 "nbformat": 4,
 "nbformat_minor": 2
}
